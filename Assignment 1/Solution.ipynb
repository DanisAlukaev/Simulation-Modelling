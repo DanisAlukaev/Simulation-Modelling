{
 "cells": [
  {
   "cell_type": "markdown",
   "metadata": {},
   "source": [
    "### Assignment 1: Discrete event modelling.\n",
    "\n",
    "**Course:**     Simulation Modeling of Financial and Economic Systems <br>\n",
    "**Student:**    Danis Alukaev <br>\n",
    "**Email:**      d.alukaev@innopolis.university <br>\n",
    "**Group:**      B19-DS-01 <br>"
   ]
  },
  {
   "cell_type": "markdown",
   "metadata": {},
   "source": [
    "**Variant:**    Task 2 <br>\n",
    "\n",
    "On average, cars with products arrive at some base each 30 minutes. The average unloading time of one machine is 1.5 hours. Unloading is carried out by two teams of loaders. On the territory of the base, no more than 4 cars can be in line waiting for unloading. Determine the performance of the queuing system."
   ]
  },
  {
   "cell_type": "markdown",
   "metadata": {},
   "source": [
    "### Prerequisites"
   ]
  },
  {
   "cell_type": "code",
   "execution_count": 1,
   "metadata": {},
   "outputs": [],
   "source": [
    "import simpy\n",
    "import random \n",
    "import os\n",
    "import datetime"
   ]
  },
  {
   "cell_type": "code",
   "execution_count": 2,
   "metadata": {},
   "outputs": [],
   "source": [
    "ARRIVAL_PERIOD = 30\n",
    "UNLOADING_TIME = 90 \n",
    "LOADERS_NUMBER = 2\n",
    "QUEUE_LENGTH = 4\n",
    "UNTIL = 10000"
   ]
  },
  {
   "cell_type": "code",
   "execution_count": 3,
   "metadata": {},
   "outputs": [],
   "source": [
    "class Logger:\n",
    "    \"\"\"\n",
    "    The class used to log simulation progress to the file.\n",
    "    By default, saves logs to directory './logs'.\n",
    "    \"\"\"\n",
    "\n",
    "    def __init__(self, date, logs_dir='./logs'):\n",
    "        self.logs_dir = logs_dir\n",
    "        if not os.path.exists(self.logs_dir):\n",
    "            os.mkdir(self.logs_dir)\n",
    "        self.filename = f\"Session {date}.log\"\n",
    "    \n",
    "    def write(self, string):\n",
    "        filepath = os.path.join(self.logs_dir, self.filename)\n",
    "        with open(filepath, 'a') as f:\n",
    "            f.write(string + '\\n')"
   ]
  },
  {
   "cell_type": "markdown",
   "metadata": {},
   "source": [
    "### Simulation design"
   ]
  },
  {
   "cell_type": "code",
   "execution_count": 4,
   "metadata": {},
   "outputs": [],
   "source": [
    "def get_random_interval(mean):\n",
    "    \"\"\"\n",
    "    The method returning the random integer from exponential distribution.\n",
    "    Rate parameter is derived from the given average time for the action.\n",
    "    :arg mean: the average time taking the action.\n",
    "    :return: time interval from exponential distribution.\n",
    "    \"\"\"\n",
    "\n",
    "    num_seconds = 60\n",
    "    intensity = 1 / (mean * num_seconds)\n",
    "    interval = int(random.expovariate(intensity) / num_seconds)\n",
    "    return interval"
   ]
  },
  {
   "cell_type": "code",
   "execution_count": 5,
   "metadata": {},
   "outputs": [],
   "source": [
    "class ProductBase:\n",
    "    \"\"\"\n",
    "    Class representing the products' base involved in the task.\n",
    "    It aggregates the loader resources and implements the unloading functionality.\n",
    "    The time required by loaders is taken at random from exponential distribution.\n",
    "    \"\"\"\n",
    "\n",
    "    def __init__(self, env, loader_number, unloading_time, queue_length):\n",
    "        self.env = env\n",
    "        self.loader_number = loader_number\n",
    "        self.loaders = simpy.Resource(env, capacity=loader_number)\n",
    "        self.unloading_time = unloading_time\n",
    "        self.queue = []\n",
    "        self.queue_length = queue_length\n",
    "    \n",
    "    def unload(self, car, logger):\n",
    "        interval = get_random_interval(self.unloading_time)\n",
    "        yield self.env.timeout(interval)\n",
    "        # print(f\"Car {car.id} was unloaded at {env.now:.2f}.\")\n",
    "        logger.write(f\"{self.env.now}: {car.id} unloaded\")"
   ]
  },
  {
   "cell_type": "code",
   "execution_count": 6,
   "metadata": {},
   "outputs": [],
   "source": [
    "class Car:\n",
    "    \"\"\"\n",
    "    Class representing the truck carrying the goods from suppliers.\n",
    "    Implements arriving mechanism: if the queue is full, the car is rejected \n",
    "    by product base. Otherwise, the product base accepts the truck and performs the \n",
    "    unloading procedure.  \n",
    "    \"\"\"\n",
    "\n",
    "    def __init__(self, env, id):\n",
    "        self.env = env\n",
    "        self.id = id\n",
    "    \n",
    "    def arrive(self, product_base: ProductBase, logger: Logger):\n",
    "        if len(product_base.queue) > product_base.queue_length - 1:\n",
    "            logger.write(f\"{self.env.now}: {self.id} rejected\")\n",
    "            # print(f\"Car {self.id} was rejected by products base.\")\n",
    "            return\n",
    "        with product_base.loaders.request() as request:\n",
    "            product_base.queue.append(self.id)\n",
    "            yield request \n",
    "            product_base.queue.remove(self.id)\n",
    "            logger.write(f\"{self.env.now}: {self.id} accepted\")\n",
    "            # print(f\"Car {self.id} enters the base at {self.env.now:.2f}.\")\n",
    "            yield env.process(product_base.unload(self, logger))\n",
    "            logger.write(f\"{self.env.now}: {self.id} left\")\n",
    "            # print(f\"Car {self.id} leaves the base at {self.env.now:.2f}.\")"
   ]
  },
  {
   "cell_type": "code",
   "execution_count": 7,
   "metadata": {},
   "outputs": [],
   "source": [
    "def setup(env, arrival_period, unloading_time, loaders_number, queue_length, logger):\n",
    "    \"\"\"\n",
    "    The method used to configure all the classes implemented and start the \n",
    "    request flow.\n",
    "    \"\"\"\n",
    "\n",
    "    product_base = ProductBase(env, loaders_number, unloading_time, queue_length)\n",
    "    cars = []\n",
    "\n",
    "    while True:\n",
    "        interval = get_random_interval(arrival_period)\n",
    "        yield env.timeout(interval)\n",
    "        cars.append(Car(env, len(cars)+1))\n",
    "        env.process(cars[-1].arrive(product_base, logger))"
   ]
  },
  {
   "cell_type": "code",
   "execution_count": 8,
   "metadata": {},
   "outputs": [],
   "source": [
    "timestamp = datetime.datetime.now().strftime(\"%Y-%m-%d %H:%M:%S\")\n",
    "logger = Logger(timestamp)"
   ]
  },
  {
   "cell_type": "code",
   "execution_count": 9,
   "metadata": {},
   "outputs": [],
   "source": [
    "env = simpy.Environment()\n",
    "args = (env, ARRIVAL_PERIOD, UNLOADING_TIME, LOADERS_NUMBER, QUEUE_LENGTH, logger)"
   ]
  },
  {
   "cell_type": "code",
   "execution_count": 10,
   "metadata": {},
   "outputs": [],
   "source": [
    "env.process(setup(*args))\n",
    "env.run(until=UNTIL)"
   ]
  }
 ],
 "metadata": {
  "interpreter": {
   "hash": "92f8c6b3f3fbc10fc944db5b3630a289a7a62f7dabdafc2495e6f2ec9983888c"
  },
  "kernelspec": {
   "display_name": "Python 3.8.12 ('ml_f21')",
   "language": "python",
   "name": "python3"
  },
  "language_info": {
   "codemirror_mode": {
    "name": "ipython",
    "version": 3
   },
   "file_extension": ".py",
   "mimetype": "text/x-python",
   "name": "python",
   "nbconvert_exporter": "python",
   "pygments_lexer": "ipython3",
   "version": "3.8.12"
  },
  "orig_nbformat": 4
 },
 "nbformat": 4,
 "nbformat_minor": 2
}
