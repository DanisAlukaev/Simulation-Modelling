{
 "cells": [
  {
   "cell_type": "markdown",
   "metadata": {},
   "source": [
    "### Assignment 1: Discrete event modelling.\n",
    "\n",
    "**Course:**     Simulation Modeling of Financial and Economic Systems <br>\n",
    "**Student:**    Danis Alukaev <br>\n",
    "**Email:**      d.alukaev@innopolis.university <br>\n",
    "**Group:**      B19-DS-01 <br>"
   ]
  },
  {
   "cell_type": "markdown",
   "metadata": {},
   "source": [
    "**Variant:**    Task 2 <br>\n",
    "\n",
    "On average, cars with products arrive at some base each 30 minutes. The average unloading time of one machine is 1.5 hours. Unloading is carried out by two teams of loaders. On the territory of the base, no more than 4 cars can be in line waiting for unloading. Determine the performance of the queuing system."
   ]
  },
  {
   "cell_type": "markdown",
   "metadata": {},
   "source": [
    "### Prerequisites"
   ]
  },
  {
   "cell_type": "code",
   "execution_count": 1,
   "metadata": {},
   "outputs": [],
   "source": [
    "import simpy\n",
    "import random "
   ]
  },
  {
   "cell_type": "code",
   "execution_count": 2,
   "metadata": {},
   "outputs": [],
   "source": [
    "ARRIVAL_PERIOD = 30\n",
    "UNLOADING_TIME = 90 \n",
    "LOADERS_NUMBER = 2\n",
    "QUEUE_LENGTH = 4"
   ]
  },
  {
   "cell_type": "markdown",
   "metadata": {},
   "source": [
    "### Simulation design"
   ]
  },
  {
   "cell_type": "code",
   "execution_count": 3,
   "metadata": {},
   "outputs": [],
   "source": [
    "def get_random_interval(mean):\n",
    "    \"\"\"\n",
    "    The method returning the random integer from exponential distribution.\n",
    "    Rate parameter is derived from the given average time for the action.\n",
    "    :arg mean: the average time taking the action.\n",
    "    :return: time interval from exponential distribution.\n",
    "    \"\"\"\n",
    "\n",
    "    num_seconds = 60\n",
    "    intensity = 1 / (mean * num_seconds)\n",
    "    interval = int(random.expovariate(intensity) / num_seconds)\n",
    "    return interval"
   ]
  },
  {
   "cell_type": "code",
   "execution_count": 4,
   "metadata": {},
   "outputs": [],
   "source": [
    "class ProductBase:\n",
    "    \"\"\"\n",
    "    Class representing the products' base involved in the task.\n",
    "    It aggregates the loader resources and implements the unloading functionality.\n",
    "    The time required by loaders is taken at random from exponential distribution.\n",
    "    \"\"\"\n",
    "\n",
    "    def __init__(self, env, loader_number, unloading_time, queue_length):\n",
    "        self.env = env\n",
    "        self.loader_number = loader_number\n",
    "        self.loaders = simpy.Resource(env, capacity=loader_number)\n",
    "        self.unloading_time = unloading_time\n",
    "        self.queue = []\n",
    "        self.queue_length = queue_length\n",
    "    \n",
    "    def unload(self, car):\n",
    "        interval = get_random_interval(self.unloading_time)\n",
    "        yield self.env.timeout(interval)\n",
    "        print(f\"Car {car.id} was unloaded at {env.now:.2f}.\")"
   ]
  },
  {
   "cell_type": "code",
   "execution_count": 5,
   "metadata": {},
   "outputs": [],
   "source": [
    "class Car:\n",
    "    \"\"\"\n",
    "    Class representing the truck carrying the goods from suppliers.\n",
    "    Implements arriving mechanism: if the queue is full, the car is rejected \n",
    "    by product base. Otherwise, the product base accepts the truck and performs the \n",
    "    unloading procedure.  \n",
    "    \"\"\"\n",
    "\n",
    "    def __init__(self, env, id):\n",
    "        self.env = env\n",
    "        self.id = id\n",
    "    \n",
    "    def arrive(self, product_base: ProductBase):\n",
    "        if len(product_base.queue) > product_base.queue_length - 1:\n",
    "            print(f\"Car {self.id} was rejected by products base.\")\n",
    "            return\n",
    "        with product_base.loaders.request() as request:\n",
    "            product_base.queue.append(self.id)\n",
    "            yield request \n",
    "            product_base.queue.remove(self.id)\n",
    "            print(f\"Car {self.id} enters the base at {self.env.now:.2f}.\")\n",
    "            yield env.process(product_base.unload(self))\n",
    "            print(f\"Car {self.id} leaves the base at {self.env.now:.2f}.\")"
   ]
  },
  {
   "cell_type": "code",
   "execution_count": 6,
   "metadata": {},
   "outputs": [],
   "source": [
    "def setup(env, arrival_period, unloading_time, loaders_number, queue_length):\n",
    "    \"\"\"\n",
    "    The method used to configure all the classes implemented and start the \n",
    "    request flow.\n",
    "    \"\"\"\n",
    "\n",
    "    product_base = ProductBase(env, loaders_number, unloading_time, queue_length)\n",
    "    cars = []\n",
    "\n",
    "    while True:\n",
    "        interval = get_random_interval(arrival_period)\n",
    "        yield env.timeout(interval)\n",
    "        cars.append(Car(env, len(cars)+1))\n",
    "        env.process(cars[-1].arrive(product_base))"
   ]
  },
  {
   "cell_type": "code",
   "execution_count": 7,
   "metadata": {},
   "outputs": [
    {
     "name": "stdout",
     "output_type": "stream",
     "text": [
      "Car 1 enters the base at 21.00.\n",
      "Car 2 enters the base at 50.00.\n",
      "Car 2 was unloaded at 88.00.\n",
      "Car 2 leaves the base at 88.00.\n",
      "Car 3 enters the base at 88.00.\n",
      "Car 1 was unloaded at 90.00.\n",
      "Car 1 leaves the base at 90.00.\n",
      "Car 4 enters the base at 126.00.\n",
      "Car 3 was unloaded at 139.00.\n",
      "Car 3 leaves the base at 139.00.\n",
      "Car 5 enters the base at 139.00.\n",
      "Car 5 was unloaded at 147.00.\n",
      "Car 5 leaves the base at 147.00.\n",
      "Car 6 enters the base at 147.00.\n",
      "Car 6 was unloaded at 163.00.\n",
      "Car 6 leaves the base at 163.00.\n",
      "Car 7 enters the base at 163.00.\n",
      "Car 7 was unloaded at 191.00.\n",
      "Car 7 leaves the base at 191.00.\n",
      "Car 8 enters the base at 191.00.\n",
      "Car 8 was unloaded at 192.00.\n",
      "Car 8 leaves the base at 192.00.\n",
      "Car 9 enters the base at 192.00.\n",
      "Car 4 was unloaded at 207.00.\n",
      "Car 4 leaves the base at 207.00.\n",
      "Car 10 enters the base at 228.00.\n",
      "Car 10 was unloaded at 232.00.\n",
      "Car 10 leaves the base at 232.00.\n",
      "Car 11 enters the base at 233.00.\n",
      "Car 9 was unloaded at 282.00.\n",
      "Car 9 leaves the base at 282.00.\n",
      "Car 12 enters the base at 282.00.\n",
      "Car 11 was unloaded at 310.00.\n",
      "Car 11 leaves the base at 310.00.\n",
      "Car 13 enters the base at 310.00.\n",
      "Car 13 was unloaded at 399.00.\n",
      "Car 13 leaves the base at 399.00.\n",
      "Car 14 enters the base at 399.00.\n",
      "Car 12 was unloaded at 410.00.\n",
      "Car 12 leaves the base at 410.00.\n",
      "Car 15 enters the base at 410.00.\n",
      "Car 15 was unloaded at 431.00.\n",
      "Car 15 leaves the base at 431.00.\n",
      "Car 16 enters the base at 431.00.\n",
      "Car 16 was unloaded at 442.00.\n",
      "Car 16 leaves the base at 442.00.\n",
      "Car 17 enters the base at 442.00.\n",
      "Car 17 was unloaded at 492.00.\n",
      "Car 17 leaves the base at 492.00.\n",
      "Car 18 enters the base at 492.00.\n",
      "Car 23 was rejected by products base.\n",
      "Car 24 was rejected by products base.\n",
      "Car 25 was rejected by products base.\n",
      "Car 18 was unloaded at 677.00.\n",
      "Car 18 leaves the base at 677.00.\n",
      "Car 19 enters the base at 677.00.\n",
      "Car 27 was rejected by products base.\n",
      "Car 14 was unloaded at 707.00.\n",
      "Car 14 leaves the base at 707.00.\n",
      "Car 20 enters the base at 707.00.\n",
      "Car 29 was rejected by products base.\n",
      "Car 20 was unloaded at 727.00.\n",
      "Car 20 leaves the base at 727.00.\n",
      "Car 21 enters the base at 727.00.\n",
      "Car 31 was rejected by products base.\n",
      "Car 32 was rejected by products base.\n",
      "Car 33 was rejected by products base.\n",
      "Car 19 was unloaded at 755.00.\n",
      "Car 19 leaves the base at 755.00.\n",
      "Car 22 enters the base at 755.00.\n",
      "Car 35 was rejected by products base.\n",
      "Car 36 was rejected by products base.\n",
      "Car 37 was rejected by products base.\n",
      "Car 38 was rejected by products base.\n",
      "Car 39 was rejected by products base.\n",
      "Car 40 was rejected by products base.\n",
      "Car 21 was unloaded at 878.00.\n",
      "Car 21 leaves the base at 878.00.\n",
      "Car 26 enters the base at 878.00.\n",
      "Car 22 was unloaded at 966.00.\n",
      "Car 22 leaves the base at 966.00.\n",
      "Car 28 enters the base at 966.00.\n"
     ]
    }
   ],
   "source": [
    "env = simpy.Environment()\n",
    "args = (env, ARRIVAL_PERIOD, UNLOADING_TIME, LOADERS_NUMBER, QUEUE_LENGTH)\n",
    "env.process(setup(*args))\n",
    "env.run(until=1000)"
   ]
  }
 ],
 "metadata": {
  "interpreter": {
   "hash": "92f8c6b3f3fbc10fc944db5b3630a289a7a62f7dabdafc2495e6f2ec9983888c"
  },
  "kernelspec": {
   "display_name": "Python 3.8.12 ('ml_f21')",
   "language": "python",
   "name": "python3"
  },
  "language_info": {
   "codemirror_mode": {
    "name": "ipython",
    "version": 3
   },
   "file_extension": ".py",
   "mimetype": "text/x-python",
   "name": "python",
   "nbconvert_exporter": "python",
   "pygments_lexer": "ipython3",
   "version": "3.8.12"
  },
  "orig_nbformat": 4
 },
 "nbformat": 4,
 "nbformat_minor": 2
}
