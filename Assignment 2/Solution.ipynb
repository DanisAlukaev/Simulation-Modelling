{
 "cells": [
  {
   "cell_type": "markdown",
   "metadata": {},
   "source": [
    "## Assignment 2: System Dynamics.\n",
    "**Course:** Simulation Modeling of Financial and Economic Systems <br>\n",
    "**Student:** Danis Alukaev <br>\n",
    "**Email:** d.alukaev@innopolis.university <br>\n",
    "**Group:** B19-DS-01 <br>"
   ]
  },
  {
   "cell_type": "markdown",
   "metadata": {},
   "source": [
    "### 0. Prerequisites"
   ]
  },
  {
   "cell_type": "code",
   "execution_count": 1,
   "metadata": {},
   "outputs": [],
   "source": [
    "# %pip install pysd"
   ]
  },
  {
   "cell_type": "code",
   "execution_count": 1,
   "metadata": {},
   "outputs": [],
   "source": [
    "import os\n",
    "import pysd\n",
    "import numpy as np\n",
    "import pandas as pd\n",
    "import torch\n",
    "\n",
    "from tqdm import tqdm\n",
    "from multiprocessing import Pool\n",
    "import matplotlib.pyplot as plt\n",
    "from datetime import datetime\n",
    "from torch import nn\n",
    "from torch.utils.data import DataLoader, Dataset\n",
    "from torchvision.transforms import ToTensor"
   ]
  },
  {
   "cell_type": "markdown",
   "metadata": {},
   "source": [
    "### 1. Importing model"
   ]
  },
  {
   "cell_type": "code",
   "execution_count": 3,
   "metadata": {},
   "outputs": [],
   "source": [
    "model = pysd.load('./bass.py')"
   ]
  },
  {
   "cell_type": "code",
   "execution_count": 4,
   "metadata": {},
   "outputs": [
    {
     "data": {
      "text/html": [
       "<div>\n",
       "<style scoped>\n",
       "    .dataframe tbody tr th:only-of-type {\n",
       "        vertical-align: middle;\n",
       "    }\n",
       "\n",
       "    .dataframe tbody tr th {\n",
       "        vertical-align: top;\n",
       "    }\n",
       "\n",
       "    .dataframe thead th {\n",
       "        text-align: right;\n",
       "    }\n",
       "</style>\n",
       "<table border=\"1\" class=\"dataframe\">\n",
       "  <thead>\n",
       "    <tr style=\"text-align: right;\">\n",
       "      <th></th>\n",
       "      <th>Real Name</th>\n",
       "      <th>Py Name</th>\n",
       "      <th>Unit</th>\n",
       "      <th>Lims</th>\n",
       "      <th>Type</th>\n",
       "      <th>Subs</th>\n",
       "      <th>Eqn</th>\n",
       "      <th>Comment</th>\n",
       "    </tr>\n",
       "  </thead>\n",
       "  <tbody>\n",
       "    <tr>\n",
       "      <th>0</th>\n",
       "      <td>Competitor Customers</td>\n",
       "      <td>competitor_customers</td>\n",
       "      <td>person</td>\n",
       "      <td>(None, None)</td>\n",
       "      <td>component</td>\n",
       "      <td>None</td>\n",
       "      <td>INTEG(-competitor gain, 0)</td>\n",
       "      <td></td>\n",
       "    </tr>\n",
       "    <tr>\n",
       "      <th>1</th>\n",
       "      <td>Competitor Customers -&gt; Our Customers</td>\n",
       "      <td>competitor2our</td>\n",
       "      <td>person</td>\n",
       "      <td>(None, None)</td>\n",
       "      <td>component</td>\n",
       "      <td>None</td>\n",
       "      <td>luring_threshold * efficiency_word_of_mouth * ...</td>\n",
       "      <td></td>\n",
       "    </tr>\n",
       "    <tr>\n",
       "      <th>2</th>\n",
       "      <td>Competitor Customers -&gt; Potential Customers</td>\n",
       "      <td>competitor2potential</td>\n",
       "      <td>person</td>\n",
       "      <td>(None, None)</td>\n",
       "      <td>component</td>\n",
       "      <td>None</td>\n",
       "      <td>competitor_customers * p23 * share_dissatisfied</td>\n",
       "      <td></td>\n",
       "    </tr>\n",
       "    <tr>\n",
       "      <th>3</th>\n",
       "      <td>Concentration of Potential Customers</td>\n",
       "      <td>potential_customers_concentration</td>\n",
       "      <td>float</td>\n",
       "      <td>(None, None)</td>\n",
       "      <td>component</td>\n",
       "      <td>None</td>\n",
       "      <td>Potential Customers / Total Market</td>\n",
       "      <td></td>\n",
       "    </tr>\n",
       "    <tr>\n",
       "      <th>4</th>\n",
       "      <td>Demand from Marketing</td>\n",
       "      <td>marketing_demand</td>\n",
       "      <td>person</td>\n",
       "      <td>(None, None)</td>\n",
       "      <td>component</td>\n",
       "      <td>None</td>\n",
       "      <td>Efficiency Marketing / Potential Customers</td>\n",
       "      <td></td>\n",
       "    </tr>\n",
       "  </tbody>\n",
       "</table>\n",
       "</div>"
      ],
      "text/plain": [
       "                                     Real Name  \\\n",
       "0                         Competitor Customers   \n",
       "1        Competitor Customers -> Our Customers   \n",
       "2  Competitor Customers -> Potential Customers   \n",
       "3         Concentration of Potential Customers   \n",
       "4                        Demand from Marketing   \n",
       "\n",
       "                             Py Name    Unit          Lims       Type  Subs  \\\n",
       "0               competitor_customers  person  (None, None)  component  None   \n",
       "1                     competitor2our  person  (None, None)  component  None   \n",
       "2               competitor2potential  person  (None, None)  component  None   \n",
       "3  potential_customers_concentration   float  (None, None)  component  None   \n",
       "4                   marketing_demand  person  (None, None)  component  None   \n",
       "\n",
       "                                                 Eqn Comment  \n",
       "0                         INTEG(-competitor gain, 0)          \n",
       "1  luring_threshold * efficiency_word_of_mouth * ...          \n",
       "2    competitor_customers * p23 * share_dissatisfied          \n",
       "3                 Potential Customers / Total Market          \n",
       "4         Efficiency Marketing / Potential Customers          "
      ]
     },
     "execution_count": 4,
     "metadata": {},
     "output_type": "execute_result"
    }
   ],
   "source": [
    "model.doc().head()"
   ]
  },
  {
   "cell_type": "code",
   "execution_count": 5,
   "metadata": {},
   "outputs": [],
   "source": [
    "def run_model(model, params=None, return_columns=None):\n",
    "    \"\"\"\n",
    "    Method that simulates the system dynamics using Bass model.\n",
    "    The model is flexible, so that you can configure (a) the time\n",
    "    simulation will be running, (b) probabilities P11 P13 P21 P23, \n",
    "    (c) Efficiency of marketing and word of mouth (WoM), and (d) so-\n",
    "    ciability. \n",
    "    User can restrict the columns to be returned.\n",
    "\n",
    "    :param model: Bass model loaded from ./bass.py\n",
    "    :param params: dict with configurations (a-d)\n",
    "    :return_columns: columns of interest\n",
    "    :return: values of intersted attributes at each point in time    \n",
    "    \"\"\"\n",
    "    model.reload()\n",
    "    kwargs = {}\n",
    "    if params is not None:\n",
    "        kwargs['params'] = params\n",
    "    values = model.run(**kwargs)\n",
    "    return values"
   ]
  },
  {
   "cell_type": "code",
   "execution_count": 6,
   "metadata": {},
   "outputs": [],
   "source": [
    "def plot_chart(values):\n",
    "    \"\"\"\n",
    "    The method that plots chart for a given values.\n",
    "    The input should produced by run_model function, and\n",
    "    contain columns 'Potential Customers', 'Our \n",
    "    Customers', 'Competitor Customers'.\n",
    "\n",
    "    :param values: values to be plotted\n",
    "    \"\"\"\n",
    "    labels = ['Potential Customers', 'Our Customers', 'Competitor Customers']\n",
    "    values = values[labels]\n",
    "    values_len = len(values)\n",
    "    colors = ['g', 'b', 'r']\n",
    "\n",
    "    fig, ax1 = plt.subplots(1, 1)\n",
    "    fig.set_size_inches(18, 12)\n",
    "    ax1.set_title(f\"Market Segmentation\")\n",
    "    ax1.grid(linestyle=\"--\")\n",
    "    ax1.set_xlabel(\"Month\")\n",
    "    ax1.set_ylabel(\"Data\")\n",
    "    for label, color in zip(labels, colors):\n",
    "        ax1.plot(np.arange(values_len), values[label], '-', label=label, c=color)\n",
    "    ax1.legend()\n",
    "    plt.show() "
   ]
  },
  {
   "cell_type": "code",
   "execution_count": 7,
   "metadata": {},
   "outputs": [
    {
     "data": {
      "image/png": "[encoded data removed]",
      "text/plain": [
       "<Figure size 1296x864 with 1 Axes>"
      ]
     },
     "metadata": {
      "needs_background": "light"
     },
     "output_type": "display_data"
    }
   ],
   "source": [
    "config = {\n",
    "    \"final_time\": 40,\n",
    "    \"p11\": 0.3,\n",
    "    \"p13\": 0.5,\n",
    "    \"p21\": 0.5,\n",
    "    \"p23\": 0.4,\n",
    "    \"efficiency_word_of_mouth\": 0.015,\n",
    "    \"efficiency_marketing\": 0.011,\n",
    "    \"sociability\": 100\n",
    "}\n",
    "\n",
    "\n",
    "values = run_model(model, params=config)\n",
    "plot_chart(values)"
   ]
  },
  {
   "cell_type": "markdown",
   "metadata": {},
   "source": [
    "### 2. Convergence Estimation"
   ]
  },
  {
   "cell_type": "code",
   "execution_count": 8,
   "metadata": {},
   "outputs": [],
   "source": [
    "def get_equilibrium(values, eps=5e-1):\n",
    "    \"\"\"\n",
    "    Method that computes market segmentation for a given model run.\n",
    "    The observations are said to converge at time T iff |x_T - x_i| < eps\n",
    "    for i ∈ [1..5]. Resultant values M1, M2 are values of columns 'Our Customers'\n",
    "    and 'Competitor Customers' at time moment T. If the convergence test failed, \n",
    "    then it returns (None, None).\n",
    "\n",
    "    :param values: dataframe (output of run)\n",
    "    :param eps: epsilon value\n",
    "    :return: M1, M2\n",
    "    \"\"\"\n",
    "    labels = ['Potential Customers', 'Our Customers', 'Competitor Customers']\n",
    "    new_labels = []\n",
    "    new_values = values.copy()\n",
    "    for label in labels:\n",
    "        for offset in range(1, 6):\n",
    "            new_label = f\"{label} - {offset}\"\n",
    "            new_labels.append(new_label)\n",
    "            new_values[new_label] = values[label].diff(periods=offset).abs()\n",
    "    diffs = new_values[new_labels]\n",
    "    converged = values[(diffs < eps).all(axis='columns')]\n",
    "    if converged.empty:\n",
    "        return None, None\n",
    "    M1, M2 = converged[labels[1:]].iloc[0]\n",
    "    return M1, M2\n"
   ]
  },
  {
   "cell_type": "code",
   "execution_count": 9,
   "metadata": {},
   "outputs": [],
   "source": [
    "def simulate(p11, p13, p21, p23, final_time=1000):\n",
    "    \"\"\"\n",
    "    Method that runs simulation with given values \n",
    "    of P11, P13, P21, and P23. \n",
    "\n",
    "    :param p11: P11\n",
    "    :param p13: P13\n",
    "    :param p21: P21\n",
    "    :param p23: P23\n",
    "    :param final_time: simulation time\n",
    "    :return: M1, M2\n",
    "    \"\"\"\n",
    "    config = {\n",
    "        \"final_time\": final_time,\n",
    "        \"p11\": p11,\n",
    "        \"p13\": p13,\n",
    "        \"p21\": p21,\n",
    "        \"p23\": p23,\n",
    "        \"efficiency_word_of_mouth\": 0.015,\n",
    "        \"efficiency_marketing\": 0.011,\n",
    "        \"sociability\": 100\n",
    "    }\n",
    "    values = run_model(model, params=config)\n",
    "    equilibrium = get_equilibrium(values)\n",
    "    return np.array(equilibrium)"
   ]
  },
  {
   "cell_type": "code",
   "execution_count": 10,
   "metadata": {},
   "outputs": [
    {
     "data": {
      "text/plain": [
       "array([ 1154.22876465, 76893.42423312])"
      ]
     },
     "execution_count": 10,
     "metadata": {},
     "output_type": "execute_result"
    }
   ],
   "source": [
    "simulate(p11=0.3, p13=0.5, p21=0.5, p23=0.4)"
   ]
  },
  {
   "cell_type": "markdown",
   "metadata": {},
   "source": [
    "### 3. Data Preparation"
   ]
  },
  {
   "cell_type": "code",
   "execution_count": 11,
   "metadata": {},
   "outputs": [],
   "source": [
    "def simulate_wrapper(args):\n",
    "    \"\"\"\n",
    "    Wrapper for simulate method. Used to run simulations\n",
    "    in parallel.\n",
    "\n",
    "    :return: M1, M2\n",
    "    \"\"\"\n",
    "    return simulate(*args)"
   ]
  },
  {
   "cell_type": "code",
   "execution_count": 12,
   "metadata": {},
   "outputs": [],
   "source": [
    "def generate_grid(step=0.1, preferences=None):\n",
    "    \"\"\"\n",
    "    Method that generates a grid of P11, P13, P21, P23. Can forced to compute\n",
    "    the grid within a certain interval for each P.\n",
    "\n",
    "    :param step: grid size\n",
    "    :param preferences: list of lists of elements with two items: lower and upper bound for P\n",
    "    :return: dataframe \n",
    "    \"\"\"\n",
    "    if preferences is None:\n",
    "        preferences = [[0, 1]] * 4\n",
    "    preferences = np.array(preferences)\n",
    "    assert preferences.shape == (4, 2), \"Preferences is list of list of elements with two items: lower and upper bound for P\"\n",
    "    space = [np.arange(pref[0], pref[1] + step, step) for pref in preferences]\n",
    "    grid = np.array(np.meshgrid(*space, indexing='ij')).T.reshape(-1, 4)\n",
    "    labels =  [\"P11\", \"P13\", \"P21\", \"P23\", \"S1\", \"S2\"]\n",
    "    df = pd.DataFrame(data=grid, columns=labels[:4])\n",
    "    temp = pd.DataFrame(data=np.zeros((len(df), 2)), columns=labels[4:])\n",
    "    for idx, label in enumerate(labels[4:]):\n",
    "        temp[label] = df[labels[idx * 2]] + df[labels[idx * 2 + 1]]\n",
    "    df = df[(temp <= 1.).all(axis='columns')].reset_index(drop=True)\n",
    "    return df"
   ]
  },
  {
   "cell_type": "code",
   "execution_count": 13,
   "metadata": {},
   "outputs": [],
   "source": [
    "def get_mapping(df):\n",
    "    \"\"\"\n",
    "    Method that computes equilibrium of a system with a given\n",
    "    set of P11, P13, P21, P23. Uses multiple processes to increase\n",
    "    the speed.\n",
    "\n",
    "    :param df: dataframe with predictors\n",
    "    :return: ground truth\n",
    "    \"\"\"\n",
    "    work = [[r[\"P11\"], r[\"P13\"], r[\"P21\"], r[\"P23\"]] for _, r in df.iterrows()]\n",
    "    with Pool(max(os.cpu_count() - 1, 1)) as p:\n",
    "        ground_truth = list(tqdm(p.imap(simulate_wrapper, work), total=len(work)))\n",
    "    targets = pd.DataFrame(data=ground_truth, columns=[\"M1\", \"M2\"])\n",
    "    return targets"
   ]
  },
  {
   "cell_type": "code",
   "execution_count": 14,
   "metadata": {},
   "outputs": [],
   "source": [
    "def export(df, flag):\n",
    "    \"\"\"\n",
    "    Method that saves dataframe as a csv file.\n",
    "\n",
    "    :param df: dataframe to be saved\n",
    "    :param flag: flag whether it should be saved\n",
    "    :return: True if save successfully\n",
    "    \"\"\"\n",
    "    if not flag:\n",
    "        return\n",
    "    if not os.path.exists('./data'):\n",
    "        os.makedirs('./data')\n",
    "    timestamp = datetime.now().strftime(\"%Y-%m-%d %H:%M:%S\")\n",
    "    filepath = os.path.join('./data', f'train | {timestamp}.csv')\n",
    "    df.to_csv(filepath)\n",
    "    return True"
   ]
  },
  {
   "cell_type": "code",
   "execution_count": 15,
   "metadata": {},
   "outputs": [],
   "source": [
    "def compose_dataset(step=0.1, preferences=None, save=True):\n",
    "    \"\"\"\n",
    "    Method that assembles dataset.\n",
    "\n",
    "    :param step: grid size\n",
    "    :param preferences: list of lists of elements with two items: lower and upper bound for P\n",
    "    :param save: flag whether the result should be saved\n",
    "    :return: dataframe \n",
    "    \"\"\"\n",
    "    df = generate_grid(step=step, preferences=preferences)\n",
    "    targets = get_mapping(df)\n",
    "    dataset = pd.concat([df, targets], axis=1).fillna(value=np.nan)\n",
    "    export(dataset, save)        \n",
    "    return dataset\n"
   ]
  },
  {
   "cell_type": "code",
   "execution_count": 16,
   "metadata": {},
   "outputs": [
    {
     "name": "stderr",
     "output_type": "stream",
     "text": [
      "100%|██████████| 18496/18496 [57:38<00:00,  5.35it/s] \n"
     ]
    }
   ],
   "source": [
    "preferences = [[0.1, 0.9]] * 4\n",
    "df = compose_dataset(step=0.05, preferences=preferences)"
   ]
  },
  {
   "cell_type": "code",
   "execution_count": 20,
   "metadata": {},
   "outputs": [
    {
     "data": {
      "image/png": "[encoded data removed]",
      "text/plain": [
       "<Figure size 560x480 with 2 Axes>"
      ]
     },
     "metadata": {
      "needs_background": "light"
     },
     "output_type": "display_data"
    }
   ],
   "source": [
    "from matplotlib.pyplot import figure\n",
    "\n",
    "def visualize(dataset, competitor_strategy, tol=1e-5):\n",
    "    \"\"\"\n",
    "    Method that generates colored map of market segmentation\n",
    "    for each pair P11 and P13.\n",
    "\n",
    "    :param dataset: dataframe with values of P and M\n",
    "    :param competitor_strategy: P21 and P23\n",
    "    :param tol: tolerance in float poat computing\n",
    "    \"\"\"\n",
    "    p21, p23 = competitor_strategy\n",
    "    data = dataset[(abs(dataset[\"P21\"] - p21) < tol) & (abs(dataset[\"P23\"] - p23) < tol)]\n",
    "    figure(figsize=(7, 6), dpi=80)\n",
    "    plt.scatter(data[\"P11\"], data[\"P13\"], c=data[\"M1\"], s=300)\n",
    "    plt.xlabel(\"P11\")\n",
    "    plt.ylabel(\"P13\")\n",
    "    plt.colorbar()\n",
    "    \n",
    "visualize(df, [0.1, 0.3])"
   ]
  },
  {
   "cell_type": "markdown",
   "metadata": {},
   "source": [
    "### 4. Machine Learning Model"
   ]
  },
  {
   "cell_type": "code",
   "execution_count": 2,
   "metadata": {},
   "outputs": [],
   "source": [
    "df = pd.read_csv(\"./data/train.csv\", index_col=[0])"
   ]
  },
  {
   "cell_type": "code",
   "execution_count": 3,
   "metadata": {},
   "outputs": [],
   "source": [
    "df.dropna(inplace=True)"
   ]
  },
  {
   "cell_type": "code",
   "execution_count": 4,
   "metadata": {},
   "outputs": [],
   "source": [
    "config = {\n",
    "    \"Epochs\": 100,\n",
    "    \"Layers\": [4, 256, 256, 256, 256, 2],\n",
    "    \"Learning rate\": 1e-1,\n",
    "    \"Weight decay\": 5e-4,\n",
    "    \"Batch size\": 100,\n",
    "    \"Num workers\": 4,\n",
    "    \"Device\": \"cuda\"  \n",
    "}"
   ]
  },
  {
   "cell_type": "code",
   "execution_count": 5,
   "metadata": {},
   "outputs": [],
   "source": [
    "class BassDataset(Dataset):\n",
    "\n",
    "    def __init__(self, df):\n",
    "        self.df = df\n",
    "\n",
    "    def __len__(self):\n",
    "        return len(self.df)\n",
    "\n",
    "    def __getitem__(self, idx):\n",
    "        item = self.df.iloc[idx]\n",
    "        X = item[[\"P11\", \"P13\", \"P21\", \"P23\"]].to_numpy()\n",
    "        y = item[[\"M1\", \"M2\"]].to_numpy()\n",
    "        \n",
    "        X = torch.tensor(X)\n",
    "        y = torch.tensor(y)\n",
    "        return X, y"
   ]
  },
  {
   "cell_type": "code",
   "execution_count": 6,
   "metadata": {},
   "outputs": [],
   "source": [
    "trainset = BassDataset(df)\n",
    "trainloader = DataLoader(trainset, batch_size=config[\"Batch size\"], shuffle=False, num_workers=config[\"Num workers\"])"
   ]
  },
  {
   "cell_type": "code",
   "execution_count": 7,
   "metadata": {},
   "outputs": [],
   "source": [
    "class BlockAE(nn.Module):\n",
    "    def __init__(self, input_dim, output_dim, activation):\n",
    "        super(BlockAE, self).__init__()\n",
    "        self.main = nn.Sequential(\n",
    "            nn.Linear(input_dim, output_dim),\n",
    "            activation()\n",
    "        )\n",
    "        \n",
    "    def forward(self, x):\n",
    "        out = self.main(x)\n",
    "        return out\n",
    "\n",
    "\n",
    "class MLP(nn.Module):\n",
    "\n",
    "    def __init__(self, layers, activation=nn.ReLU):\n",
    "        super(MLP, self).__init__()\n",
    "        self.layers = layers\n",
    "        self.activation = activation\n",
    "        self.main = self.__init_model(layers)\n",
    "    \n",
    "    def __init_model(self, layers):\n",
    "        sequence = []\n",
    "        for idx in range(len(layers) - 2):\n",
    "            layer = BlockAE(layers[idx], layers[idx + 1], self.activation)\n",
    "            sequence.append(layer)\n",
    "        sequence.append(nn.Linear(layers[-2], layers[-1], self.activation))\n",
    "        return torch.nn.Sequential(*sequence)\n",
    "    \n",
    "    def forward(self, x):\n",
    "        out = self.main(x)\n",
    "        return out"
   ]
  },
  {
   "cell_type": "code",
   "execution_count": 8,
   "metadata": {},
   "outputs": [],
   "source": [
    "def make():\n",
    "    model = MLP(config[\"Layers\"])\n",
    "    optimizer = torch.optim.AdamW(model.parameters(), lr=config[\"Learning rate\"], weight_decay=config[\"Weight decay\"])\n",
    "    scheduler = torch.optim.lr_scheduler.OneCycleLR(optimizer, config[\"Learning rate\"], config['Epochs'], steps_per_epoch=len(trainloader))\n",
    "    criterion = nn.MSELoss()\n",
    "    return model, optimizer, scheduler, criterion"
   ]
  },
  {
   "cell_type": "code",
   "execution_count": 9,
   "metadata": {},
   "outputs": [],
   "source": [
    "def train(model, criterion, loader, optimizer):\n",
    "    \"\"\"\n",
    "    Training routine for the model. Iterates over the elements in the loader.\n",
    "    Uses criterion to calculate the loss. Applies optimizer to update weights.\n",
    "    :param model: PyTorch model\n",
    "    :param criterion: method computing the loss \n",
    "    :param loader: dataloader\n",
    "    :param optimizer: optimization algorithm\n",
    "    :return: per batch loss, average balanced accuracy\n",
    "    \"\"\"\n",
    "    model.to(config['Device'])\n",
    "    model.train()\n",
    "    \n",
    "    train_loss = 0.0\n",
    "    for _, (X, y) in enumerate(loader):\n",
    "        X, y = X.to(config['Device']).float(), y.to(config['Device']).float()\n",
    "        optimizer.zero_grad()\n",
    "        predictions = model(X)\n",
    "        loss = criterion(predictions, y)\n",
    "        loss.backward()\n",
    "        optimizer.step()\n",
    "        train_loss += loss.item()\n",
    "        \n",
    "    return train_loss / len(loader)"
   ]
  },
  {
   "cell_type": "code",
   "execution_count": 10,
   "metadata": {},
   "outputs": [],
   "source": [
    "def pipeline():\n",
    "    model, optimizer, scheduler, criterion = make()\n",
    "    losses = {'train': []}\n",
    "\n",
    "    for epoch in range(config['Epochs']):  \n",
    "        train_loss = train(model, criterion, trainloader, optimizer)\n",
    "        scheduler.step()\n",
    "        \n",
    "        losses['train'].append(train_loss)\n",
    "        print(f\"Epoch: {epoch+1:02d} | Train loss: {train_loss:.5f}\")\n",
    "\n",
    "        if train_loss <= min(losses['train']):\n",
    "            torch.save({\n",
    "                'epoch': epoch,\n",
    "                'model_state_dict': model.state_dict(),\n",
    "                'optimizer_state_dict': optimizer.state_dict(),\n",
    "                'loss': train_loss, \n",
    "            }, os.path.join(\"weights\", f\"{epoch}.pt\"))\n",
    "    return losses"
   ]
  },
  {
   "cell_type": "code",
   "execution_count": 11,
   "metadata": {},
   "outputs": [
    {
     "name": "stdout",
     "output_type": "stream",
     "text": [
      "Epoch: 01 | Train loss: 1804784527.74054\n",
      "Epoch: 02 | Train loss: 1790674843.50270\n",
      "Epoch: 03 | Train loss: 1776234376.99459\n",
      "Epoch: 04 | Train loss: 1699201707.50270\n",
      "Epoch: 05 | Train loss: 1750997348.47568\n",
      "Epoch: 06 | Train loss: 1516506100.10811\n",
      "Epoch: 07 | Train loss: 339834397.79459\n",
      "Epoch: 08 | Train loss: 243011709.48108\n",
      "Epoch: 09 | Train loss: 181580396.83243\n",
      "Epoch: 10 | Train loss: 126689159.04324\n",
      "Epoch: 11 | Train loss: 103232104.26757\n",
      "Epoch: 12 | Train loss: 80827229.17027\n",
      "Epoch: 13 | Train loss: 83700052.18581\n",
      "Epoch: 14 | Train loss: 101095604.06216\n",
      "Epoch: 15 | Train loss: 87099425.11892\n",
      "Epoch: 16 | Train loss: 56660871.23378\n",
      "Epoch: 17 | Train loss: 119934917.63851\n",
      "Epoch: 18 | Train loss: 71387258.54865\n",
      "Epoch: 19 | Train loss: 64602605.35946\n",
      "Epoch: 20 | Train loss: 54944313.43108\n",
      "Epoch: 21 | Train loss: 43785192.70608\n",
      "Epoch: 22 | Train loss: 52449730.06081\n",
      "Epoch: 23 | Train loss: 47597270.54324\n",
      "Epoch: 24 | Train loss: 41069790.53919\n",
      "Epoch: 25 | Train loss: 48803959.34054\n",
      "Epoch: 26 | Train loss: 33658618.43446\n",
      "Epoch: 27 | Train loss: 34033188.33311\n",
      "Epoch: 28 | Train loss: 26200954.76757\n",
      "Epoch: 29 | Train loss: 19459782.28311\n",
      "Epoch: 30 | Train loss: 41141453.66757\n",
      "Epoch: 31 | Train loss: 24065616.94797\n",
      "Epoch: 32 | Train loss: 30229920.87635\n",
      "Epoch: 33 | Train loss: 23604349.65372\n",
      "Epoch: 34 | Train loss: 21883462.78649\n",
      "Epoch: 35 | Train loss: 20012683.60338\n",
      "Epoch: 36 | Train loss: 18134240.62635\n",
      "Epoch: 37 | Train loss: 18517557.34392\n",
      "Epoch: 38 | Train loss: 18977279.20541\n",
      "Epoch: 39 | Train loss: 37412361.35270\n",
      "Epoch: 40 | Train loss: 38178998.32770\n",
      "Epoch: 41 | Train loss: 42976219.02162\n",
      "Epoch: 42 | Train loss: 23934866.57432\n",
      "Epoch: 43 | Train loss: 40118736.33784\n",
      "Epoch: 44 | Train loss: 20570487.10000\n",
      "Epoch: 45 | Train loss: 25342777.27500\n",
      "Epoch: 46 | Train loss: 30740855.46216\n",
      "Epoch: 47 | Train loss: 29468884.69730\n",
      "Epoch: 48 | Train loss: 26265445.25608\n",
      "Epoch: 49 | Train loss: 31818017.04189\n",
      "Epoch: 50 | Train loss: 21742878.00338\n",
      "Epoch: 51 | Train loss: 22923367.41757\n",
      "Epoch: 52 | Train loss: 19519073.65068\n",
      "Epoch: 53 | Train loss: 28742335.83784\n",
      "Epoch: 54 | Train loss: 23477189.92027\n",
      "Epoch: 55 | Train loss: 30028695.64527\n",
      "Epoch: 56 | Train loss: 25651139.11284\n",
      "Epoch: 57 | Train loss: 39795711.73784\n",
      "Epoch: 58 | Train loss: 26585687.43446\n",
      "Epoch: 59 | Train loss: 18759794.44865\n",
      "Epoch: 60 | Train loss: 16374104.40541\n",
      "Epoch: 61 | Train loss: 17853397.65946\n",
      "Epoch: 62 | Train loss: 26229909.93446\n",
      "Epoch: 63 | Train loss: 36781574.12432\n",
      "Epoch: 64 | Train loss: 28242528.99662\n",
      "Epoch: 65 | Train loss: 18646179.95541\n",
      "Epoch: 66 | Train loss: 21161053.20473\n",
      "Epoch: 67 | Train loss: 26008470.55541\n",
      "Epoch: 68 | Train loss: 27563031.96486\n",
      "Epoch: 69 | Train loss: 27185606.05034\n",
      "Epoch: 70 | Train loss: 31838946.22432\n",
      "Epoch: 71 | Train loss: 30895812.92297\n",
      "Epoch: 72 | Train loss: 18819419.00270\n",
      "Epoch: 73 | Train loss: 22395311.69459\n",
      "Epoch: 74 | Train loss: 27872449.39054\n",
      "Epoch: 75 | Train loss: 28029452.61892\n",
      "Epoch: 76 | Train loss: 25187463.61554\n",
      "Epoch: 77 | Train loss: 23844521.44459\n",
      "Epoch: 78 | Train loss: 17897018.42162\n",
      "Epoch: 79 | Train loss: 15217929.52500\n",
      "Epoch: 80 | Train loss: 16324463.39459\n",
      "Epoch: 81 | Train loss: 15288766.93581\n",
      "Epoch: 82 | Train loss: 12934328.57635\n",
      "Epoch: 83 | Train loss: 12522850.53919\n",
      "Epoch: 84 | Train loss: 11690959.97432\n",
      "Epoch: 85 | Train loss: 10395826.41959\n",
      "Epoch: 86 | Train loss: 8143344.79899\n",
      "Epoch: 87 | Train loss: 8032109.81959\n",
      "Epoch: 88 | Train loss: 8027428.50439\n",
      "Epoch: 89 | Train loss: 8276393.96909\n",
      "Epoch: 90 | Train loss: 8252028.64257\n",
      "Epoch: 91 | Train loss: 7999606.65709\n",
      "Epoch: 92 | Train loss: 7521957.65270\n",
      "Epoch: 93 | Train loss: 7188521.75574\n",
      "Epoch: 94 | Train loss: 7255207.17838\n",
      "Epoch: 95 | Train loss: 7359339.60743\n",
      "Epoch: 96 | Train loss: 6844151.75642\n",
      "Epoch: 97 | Train loss: 5790276.20946\n",
      "Epoch: 98 | Train loss: 5049297.37973\n",
      "Epoch: 99 | Train loss: 4618875.78615\n",
      "Epoch: 100 | Train loss: 4484216.88615\n"
     ]
    }
   ],
   "source": [
    "losses = pipeline()"
   ]
  },
  {
   "cell_type": "code",
   "execution_count": 12,
   "metadata": {},
   "outputs": [],
   "source": [
    "def visualize(losses):\n",
    "    \"\"\"\n",
    "    Method used to visualize the behaviour of losses over the time.\n",
    "    :param losses: dict with keys 'train', 'test' and values - losses.\n",
    "    :param accuracies: dict with keys 'train', 'test' and values - balanced accuracies.\n",
    "    \"\"\"\n",
    "    fig, ax1 = plt.subplots(1, 1)\n",
    "    fig.set_size_inches(12, 8)\n",
    "    ax1.set_title(f\"Comparison of losses\")\n",
    "    ax1.grid(linestyle='--')\n",
    "    ax1.set_xlabel('Epoch')\n",
    "    ax1.set_ylabel('Loss')\n",
    "    ax1.plot(np.arange(len(losses['train'])), np.array(losses['train']), '-', label='Train', c='b')\n",
    "    ax1.legend()\n",
    "\n",
    "    plt.show() "
   ]
  },
  {
   "cell_type": "code",
   "execution_count": 13,
   "metadata": {},
   "outputs": [
    {
     "data": {
      "image/png": "[encoded data removed]",
      "text/plain": [
       "<Figure size 864x576 with 1 Axes>"
      ]
     },
     "metadata": {
      "needs_background": "light"
     },
     "output_type": "display_data"
    }
   ],
   "source": [
    "visualize(losses)"
   ]
  },
  {
   "cell_type": "code",
   "execution_count": 14,
   "metadata": {},
   "outputs": [
    {
     "data": {
      "text/plain": [
       "MLP(\n",
       "  (main): Sequential(\n",
       "    (0): BlockAE(\n",
       "      (main): Sequential(\n",
       "        (0): Linear(in_features=4, out_features=256, bias=True)\n",
       "        (1): ReLU()\n",
       "      )\n",
       "    )\n",
       "    (1): BlockAE(\n",
       "      (main): Sequential(\n",
       "        (0): Linear(in_features=256, out_features=256, bias=True)\n",
       "        (1): ReLU()\n",
       "      )\n",
       "    )\n",
       "    (2): BlockAE(\n",
       "      (main): Sequential(\n",
       "        (0): Linear(in_features=256, out_features=256, bias=True)\n",
       "        (1): ReLU()\n",
       "      )\n",
       "    )\n",
       "    (3): BlockAE(\n",
       "      (main): Sequential(\n",
       "        (0): Linear(in_features=256, out_features=256, bias=True)\n",
       "        (1): ReLU()\n",
       "      )\n",
       "    )\n",
       "    (4): Linear(in_features=256, out_features=2, bias=True)\n",
       "  )\n",
       ")"
      ]
     },
     "execution_count": 14,
     "metadata": {},
     "output_type": "execute_result"
    }
   ],
   "source": [
    "checkpoint = torch.load(os.path.join(\"weights\", \"99.pt\"))\n",
    "inferenced = MLP(config[\"Layers\"])\n",
    "inferenced.load_state_dict(checkpoint['model_state_dict'])\n",
    "inferenced.eval()"
   ]
  },
  {
   "cell_type": "code",
   "execution_count": 17,
   "metadata": {},
   "outputs": [
    {
     "data": {
      "text/plain": [
       "tensor([81828.3203,  4842.3574], grad_fn=<AddBackward0>)"
      ]
     },
     "execution_count": 17,
     "metadata": {},
     "output_type": "execute_result"
    }
   ],
   "source": [
    "inferenced(torch.tensor([0.15, 0.1, 0.1, 0.1]))"
   ]
  },
  {
   "cell_type": "code",
   "execution_count": 16,
   "metadata": {},
   "outputs": [
    {
     "data": {
      "text/html": [
       "<div>\n",
       "<style scoped>\n",
       "    .dataframe tbody tr th:only-of-type {\n",
       "        vertical-align: middle;\n",
       "    }\n",
       "\n",
       "    .dataframe tbody tr th {\n",
       "        vertical-align: top;\n",
       "    }\n",
       "\n",
       "    .dataframe thead th {\n",
       "        text-align: right;\n",
       "    }\n",
       "</style>\n",
       "<table border=\"1\" class=\"dataframe\">\n",
       "  <thead>\n",
       "    <tr style=\"text-align: right;\">\n",
       "      <th></th>\n",
       "      <th>P11</th>\n",
       "      <th>P13</th>\n",
       "      <th>P21</th>\n",
       "      <th>P23</th>\n",
       "      <th>M1</th>\n",
       "      <th>M2</th>\n",
       "    </tr>\n",
       "  </thead>\n",
       "  <tbody>\n",
       "    <tr>\n",
       "      <th>0</th>\n",
       "      <td>0.10</td>\n",
       "      <td>0.10</td>\n",
       "      <td>0.1</td>\n",
       "      <td>0.10</td>\n",
       "      <td>38170.011166</td>\n",
       "      <td>38170.011166</td>\n",
       "    </tr>\n",
       "    <tr>\n",
       "      <th>1</th>\n",
       "      <td>0.15</td>\n",
       "      <td>0.10</td>\n",
       "      <td>0.1</td>\n",
       "      <td>0.10</td>\n",
       "      <td>79158.334694</td>\n",
       "      <td>3788.763675</td>\n",
       "    </tr>\n",
       "    <tr>\n",
       "      <th>2</th>\n",
       "      <td>0.20</td>\n",
       "      <td>0.10</td>\n",
       "      <td>0.1</td>\n",
       "      <td>0.10</td>\n",
       "      <td>85342.003277</td>\n",
       "      <td>1545.490515</td>\n",
       "    </tr>\n",
       "    <tr>\n",
       "      <th>3</th>\n",
       "      <td>0.25</td>\n",
       "      <td>0.10</td>\n",
       "      <td>0.1</td>\n",
       "      <td>0.10</td>\n",
       "      <td>88496.264950</td>\n",
       "      <td>859.133914</td>\n",
       "    </tr>\n",
       "    <tr>\n",
       "      <th>4</th>\n",
       "      <td>0.30</td>\n",
       "      <td>0.10</td>\n",
       "      <td>0.1</td>\n",
       "      <td>0.10</td>\n",
       "      <td>90492.037140</td>\n",
       "      <td>551.071879</td>\n",
       "    </tr>\n",
       "    <tr>\n",
       "      <th>...</th>\n",
       "      <td>...</td>\n",
       "      <td>...</td>\n",
       "      <td>...</td>\n",
       "      <td>...</td>\n",
       "      <td>...</td>\n",
       "      <td>...</td>\n",
       "    </tr>\n",
       "    <tr>\n",
       "      <th>18491</th>\n",
       "      <td>0.15</td>\n",
       "      <td>0.75</td>\n",
       "      <td>0.1</td>\n",
       "      <td>0.85</td>\n",
       "      <td>8107.607711</td>\n",
       "      <td>4193.996264</td>\n",
       "    </tr>\n",
       "    <tr>\n",
       "      <th>18492</th>\n",
       "      <td>0.20</td>\n",
       "      <td>0.75</td>\n",
       "      <td>0.1</td>\n",
       "      <td>0.85</td>\n",
       "      <td>13534.129065</td>\n",
       "      <td>3751.287640</td>\n",
       "    </tr>\n",
       "    <tr>\n",
       "      <th>18493</th>\n",
       "      <td>0.10</td>\n",
       "      <td>0.80</td>\n",
       "      <td>0.1</td>\n",
       "      <td>0.85</td>\n",
       "      <td>4919.802853</td>\n",
       "      <td>4458.308901</td>\n",
       "    </tr>\n",
       "    <tr>\n",
       "      <th>18494</th>\n",
       "      <td>0.15</td>\n",
       "      <td>0.80</td>\n",
       "      <td>0.1</td>\n",
       "      <td>0.85</td>\n",
       "      <td>7072.949552</td>\n",
       "      <td>4268.834824</td>\n",
       "    </tr>\n",
       "    <tr>\n",
       "      <th>18495</th>\n",
       "      <td>0.10</td>\n",
       "      <td>0.85</td>\n",
       "      <td>0.1</td>\n",
       "      <td>0.85</td>\n",
       "      <td>4488.268026</td>\n",
       "      <td>4488.268026</td>\n",
       "    </tr>\n",
       "  </tbody>\n",
       "</table>\n",
       "<p>18418 rows × 6 columns</p>\n",
       "</div>"
      ],
      "text/plain": [
       "        P11   P13  P21   P23            M1            M2\n",
       "0      0.10  0.10  0.1  0.10  38170.011166  38170.011166\n",
       "1      0.15  0.10  0.1  0.10  79158.334694   3788.763675\n",
       "2      0.20  0.10  0.1  0.10  85342.003277   1545.490515\n",
       "3      0.25  0.10  0.1  0.10  88496.264950    859.133914\n",
       "4      0.30  0.10  0.1  0.10  90492.037140    551.071879\n",
       "...     ...   ...  ...   ...           ...           ...\n",
       "18491  0.15  0.75  0.1  0.85   8107.607711   4193.996264\n",
       "18492  0.20  0.75  0.1  0.85  13534.129065   3751.287640\n",
       "18493  0.10  0.80  0.1  0.85   4919.802853   4458.308901\n",
       "18494  0.15  0.80  0.1  0.85   7072.949552   4268.834824\n",
       "18495  0.10  0.85  0.1  0.85   4488.268026   4488.268026\n",
       "\n",
       "[18418 rows x 6 columns]"
      ]
     },
     "execution_count": 16,
     "metadata": {},
     "output_type": "execute_result"
    }
   ],
   "source": [
    "df"
   ]
  },
  {
   "cell_type": "code",
   "execution_count": null,
   "metadata": {},
   "outputs": [],
   "source": []
  }
 ],
 "metadata": {
  "interpreter": {
   "hash": "92f8c6b3f3fbc10fc944db5b3630a289a7a62f7dabdafc2495e6f2ec9983888c"
  },
  "kernelspec": {
   "display_name": "Python 3.8.12 ('ml_f21')",
   "language": "python",
   "name": "python3"
  },
  "language_info": {
   "codemirror_mode": {
    "name": "ipython",
    "version": 3
   },
   "file_extension": ".py",
   "mimetype": "text/x-python",
   "name": "python",
   "nbconvert_exporter": "python",
   "pygments_lexer": "ipython3",
   "version": "3.8.12"
  },
  "orig_nbformat": 4
 },
 "nbformat": 4,
 "nbformat_minor": 2
}
