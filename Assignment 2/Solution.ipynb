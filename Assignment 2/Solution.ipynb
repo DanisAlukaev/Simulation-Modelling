{
 "cells": [
  {
   "cell_type": "markdown",
   "metadata": {},
   "source": [
    "## Assignment 2: System Dynamics.\n",
    "**Course:** Simulation Modeling of Financial and Economic Systems <br>\n",
    "**Student:** Danis Alukaev <br>\n",
    "**Email:** d.alukaev@innopolis.university <br>\n",
    "**Group:** B19-DS-01 <br>"
   ]
  },
  {
   "cell_type": "markdown",
   "metadata": {},
   "source": [
    "### 0. Prerequisites"
   ]
  },
  {
   "cell_type": "code",
   "execution_count": null,
   "metadata": {},
   "outputs": [],
   "source": [
    "%pip install pysd"
   ]
  },
  {
   "cell_type": "code",
   "execution_count": 1,
   "metadata": {},
   "outputs": [],
   "source": [
    "import pysd\n",
    "import matplotlib.pyplot as plt\n",
    "import numpy as np\n",
    "import pandas as pd\n",
    "from tqdm import tqdm\n",
    "from multiprocessing import Pool\n",
    "import os\n",
    "from datetime import datetime"
   ]
  },
  {
   "cell_type": "markdown",
   "metadata": {},
   "source": [
    "### 1. Importing model"
   ]
  },
  {
   "cell_type": "code",
   "execution_count": 2,
   "metadata": {},
   "outputs": [],
   "source": [
    "model = pysd.load('./bass.py')"
   ]
  },
  {
   "cell_type": "code",
   "execution_count": 3,
   "metadata": {},
   "outputs": [
    {
     "data": {
      "text/html": [
       "<div>\n",
       "<style scoped>\n",
       "    .dataframe tbody tr th:only-of-type {\n",
       "        vertical-align: middle;\n",
       "    }\n",
       "\n",
       "    .dataframe tbody tr th {\n",
       "        vertical-align: top;\n",
       "    }\n",
       "\n",
       "    .dataframe thead th {\n",
       "        text-align: right;\n",
       "    }\n",
       "</style>\n",
       "<table border=\"1\" class=\"dataframe\">\n",
       "  <thead>\n",
       "    <tr style=\"text-align: right;\">\n",
       "      <th></th>\n",
       "      <th>Real Name</th>\n",
       "      <th>Py Name</th>\n",
       "      <th>Unit</th>\n",
       "      <th>Lims</th>\n",
       "      <th>Type</th>\n",
       "      <th>Subs</th>\n",
       "      <th>Eqn</th>\n",
       "      <th>Comment</th>\n",
       "    </tr>\n",
       "  </thead>\n",
       "  <tbody>\n",
       "    <tr>\n",
       "      <th>0</th>\n",
       "      <td>Competitor Customers</td>\n",
       "      <td>competitor_customers</td>\n",
       "      <td>person</td>\n",
       "      <td>(None, None)</td>\n",
       "      <td>component</td>\n",
       "      <td>None</td>\n",
       "      <td>INTEG(-competitor gain, 0)</td>\n",
       "      <td></td>\n",
       "    </tr>\n",
       "    <tr>\n",
       "      <th>1</th>\n",
       "      <td>Competitor Customers -&gt; Our Customers</td>\n",
       "      <td>competitor2our</td>\n",
       "      <td>person</td>\n",
       "      <td>(None, None)</td>\n",
       "      <td>component</td>\n",
       "      <td>None</td>\n",
       "      <td>luring_threshold * efficiency_word_of_mouth * ...</td>\n",
       "      <td></td>\n",
       "    </tr>\n",
       "    <tr>\n",
       "      <th>2</th>\n",
       "      <td>Competitor Customers -&gt; Potential Customers</td>\n",
       "      <td>competitor2potential</td>\n",
       "      <td>person</td>\n",
       "      <td>(None, None)</td>\n",
       "      <td>component</td>\n",
       "      <td>None</td>\n",
       "      <td>competitor_customers * p23 * share_dissatisfied</td>\n",
       "      <td></td>\n",
       "    </tr>\n",
       "    <tr>\n",
       "      <th>3</th>\n",
       "      <td>Concentration of Potential Customers</td>\n",
       "      <td>potential_customers_concentration</td>\n",
       "      <td>float</td>\n",
       "      <td>(None, None)</td>\n",
       "      <td>component</td>\n",
       "      <td>None</td>\n",
       "      <td>Potential Customers / Total Market</td>\n",
       "      <td></td>\n",
       "    </tr>\n",
       "    <tr>\n",
       "      <th>4</th>\n",
       "      <td>Demand from Marketing</td>\n",
       "      <td>marketing_demand</td>\n",
       "      <td>person</td>\n",
       "      <td>(None, None)</td>\n",
       "      <td>component</td>\n",
       "      <td>None</td>\n",
       "      <td>Efficiency Marketing / Potential Customers</td>\n",
       "      <td></td>\n",
       "    </tr>\n",
       "  </tbody>\n",
       "</table>\n",
       "</div>"
      ],
      "text/plain": [
       "                                     Real Name  \\\n",
       "0                         Competitor Customers   \n",
       "1        Competitor Customers -> Our Customers   \n",
       "2  Competitor Customers -> Potential Customers   \n",
       "3         Concentration of Potential Customers   \n",
       "4                        Demand from Marketing   \n",
       "\n",
       "                             Py Name    Unit          Lims       Type  Subs  \\\n",
       "0               competitor_customers  person  (None, None)  component  None   \n",
       "1                     competitor2our  person  (None, None)  component  None   \n",
       "2               competitor2potential  person  (None, None)  component  None   \n",
       "3  potential_customers_concentration   float  (None, None)  component  None   \n",
       "4                   marketing_demand  person  (None, None)  component  None   \n",
       "\n",
       "                                                 Eqn Comment  \n",
       "0                         INTEG(-competitor gain, 0)          \n",
       "1  luring_threshold * efficiency_word_of_mouth * ...          \n",
       "2    competitor_customers * p23 * share_dissatisfied          \n",
       "3                 Potential Customers / Total Market          \n",
       "4         Efficiency Marketing / Potential Customers          "
      ]
     },
     "execution_count": 3,
     "metadata": {},
     "output_type": "execute_result"
    }
   ],
   "source": [
    "model.doc().head()"
   ]
  },
  {
   "cell_type": "code",
   "execution_count": 4,
   "metadata": {},
   "outputs": [],
   "source": [
    "def run_model(model, params=None, return_columns=None):\n",
    "    \"\"\"\n",
    "    Method that simulates the system dynamics using Bass model.\n",
    "    The model is flexible, so that you can configure (a) the time\n",
    "    simulation will be running, (b) probabilities P11 P13 P21 P23, \n",
    "    (c) Efficiency of marketing and word of mouth (WoM), and (d) so-\n",
    "    ciability. \n",
    "    User can restrict the columns to be returned.\n",
    "\n",
    "    :param model: Bass model loaded from ./bass.py\n",
    "    :param params: dict with configurations (a-d)\n",
    "    :return_columns: columns of interest\n",
    "    :return: values of intersted attributes at each point in time    \n",
    "    \"\"\"\n",
    "    model.reload()\n",
    "    kwargs = {}\n",
    "    if params is not None:\n",
    "        kwargs['params'] = params\n",
    "    values = model.run(**kwargs)\n",
    "    return values"
   ]
  },
  {
   "cell_type": "code",
   "execution_count": 5,
   "metadata": {},
   "outputs": [],
   "source": [
    "def plot_chart(values):\n",
    "    \"\"\"\n",
    "    The method that plots chart for a given values.\n",
    "    The input should produced by run_model function, and\n",
    "    contain columns 'Potential Customers', 'Our \n",
    "    Customers', 'Competitor Customers'.\n",
    "\n",
    "    :param values: values to be plotted\n",
    "    \"\"\"\n",
    "    labels = ['Potential Customers', 'Our Customers', 'Competitor Customers']\n",
    "    values = values[labels]\n",
    "    values_len = len(values)\n",
    "    colors = ['g', 'b', 'r']\n",
    "\n",
    "    fig, ax1 = plt.subplots(1, 1)\n",
    "    fig.set_size_inches(18, 12)\n",
    "    ax1.set_title(f\"Market Segmentation\")\n",
    "    ax1.grid(linestyle=\"--\")\n",
    "    ax1.set_xlabel(\"Month\")\n",
    "    ax1.set_ylabel(\"Data\")\n",
    "    for label, color in zip(labels, colors):\n",
    "        ax1.plot(np.arange(values_len), values[label], '-', label=label, c=color)\n",
    "    ax1.legend()\n",
    "    plt.show() "
   ]
  },
  {
   "cell_type": "code",
   "execution_count": 6,
   "metadata": {},
   "outputs": [
    {
     "data": {
      "image/png": "[encoded data removed]",
      "text/plain": [
       "<Figure size 1296x864 with 1 Axes>"
      ]
     },
     "metadata": {
      "needs_background": "light"
     },
     "output_type": "display_data"
    }
   ],
   "source": [
    "config = {\n",
    "    \"final_time\": 40,\n",
    "    \"p11\": 0.3,\n",
    "    \"p13\": 0.5,\n",
    "    \"p21\": 0.5,\n",
    "    \"p23\": 0.4,\n",
    "    \"efficiency_word_of_mouth\": 0.015,\n",
    "    \"efficiency_marketing\": 0.011,\n",
    "    \"sociability\": 100\n",
    "}\n",
    "\n",
    "\n",
    "values = run_model(model, params=config)\n",
    "plot_chart(values)"
   ]
  },
  {
   "cell_type": "markdown",
   "metadata": {},
   "source": [
    "### 2. Convergence Estimation"
   ]
  },
  {
   "cell_type": "code",
   "execution_count": 7,
   "metadata": {},
   "outputs": [],
   "source": [
    "def get_equilibrium(values, eps=5e-2):\n",
    "    \"\"\"\n",
    "    Method that computes market segmentation for a given model run.\n",
    "    The observations are said to converge at time T iff |x_T - x_i| < eps\n",
    "    for i ∈ [1..5]. Resultant values M1, M2 are values of columns 'Our Customers'\n",
    "    and 'Competitor Customers' at time moment T. If the convergence test failed, \n",
    "    then it returns (None, None).\n",
    "\n",
    "    :param values: dataframe (output of run)\n",
    "    :param eps: epsilon value\n",
    "    :return: M1, M2\n",
    "    \"\"\"\n",
    "    labels = ['Potential Customers', 'Our Customers', 'Competitor Customers']\n",
    "    new_labels = []\n",
    "    new_values = values.copy()\n",
    "    for label in labels:\n",
    "        for offset in range(1, 6):\n",
    "            new_label = f\"{label} - {offset}\"\n",
    "            new_labels.append(new_label)\n",
    "            new_values[new_label] = values[label].diff(periods=offset).abs()\n",
    "    diffs = new_values[new_labels]\n",
    "    converged = values[(diffs < eps).all(axis='columns')]\n",
    "    if converged.empty:\n",
    "        return None, None\n",
    "    M1, M2 = converged[labels[1:]].iloc[0]\n",
    "    return M1, M2\n"
   ]
  },
  {
   "cell_type": "code",
   "execution_count": 8,
   "metadata": {},
   "outputs": [],
   "source": [
    "def simulate(p11, p13, p21, p23, final_time=200):\n",
    "    \"\"\"\n",
    "    Method that runs simulation with given values \n",
    "    of P11, P13, P21, and P23. \n",
    "\n",
    "    :param p11: P11\n",
    "    :param p13: P13\n",
    "    :param p21: P21\n",
    "    :param p23: P23\n",
    "    :param final_time: simulation time\n",
    "    :return: M1, M2\n",
    "    \"\"\"\n",
    "    config = {\n",
    "        \"final_time\": final_time,\n",
    "        \"p11\": p11,\n",
    "        \"p13\": p13,\n",
    "        \"p21\": p21,\n",
    "        \"p23\": p23,\n",
    "        \"efficiency_word_of_mouth\": 0.015,\n",
    "        \"efficiency_marketing\": 0.011,\n",
    "        \"sociability\": 100\n",
    "    }\n",
    "    values = run_model(model, params=config)\n",
    "    equilibrium = get_equilibrium(values)\n",
    "    return np.array(equilibrium)"
   ]
  },
  {
   "cell_type": "code",
   "execution_count": 9,
   "metadata": {},
   "outputs": [
    {
     "data": {
      "text/plain": [
       "array([ 1154.07744393, 76893.61592779])"
      ]
     },
     "execution_count": 9,
     "metadata": {},
     "output_type": "execute_result"
    }
   ],
   "source": [
    "simulate(p11=0.3, p13=0.5, p21=0.5, p23=0.4)"
   ]
  },
  {
   "cell_type": "markdown",
   "metadata": {},
   "source": [
    "### 3. Data Preparation"
   ]
  },
  {
   "cell_type": "code",
   "execution_count": 10,
   "metadata": {},
   "outputs": [],
   "source": [
    "def simulate_wrapper(args):\n",
    "    \"\"\"\n",
    "    Wrapper for simulate method. Used to run simulations\n",
    "    in parallel.\n",
    "\n",
    "    :return: M1, M2\n",
    "    \"\"\"\n",
    "    return simulate(*args)"
   ]
  },
  {
   "cell_type": "code",
   "execution_count": 11,
   "metadata": {},
   "outputs": [],
   "source": [
    "def generate_grid(step=0.1, preferences=None):\n",
    "    \"\"\"\n",
    "    Method that generates a grid of P11, P13, P21, P23. Can forced to compute\n",
    "    the grid within a certain interval for each P.\n",
    "\n",
    "    :param step: grid size\n",
    "    :param preferences: list of lists of elements with two items: lower and upper bound for P\n",
    "    :return: dataframe \n",
    "    \"\"\"\n",
    "    if preferences is None:\n",
    "        preferences = [[0, 1]] * 4\n",
    "    preferences = np.array(preferences)\n",
    "    assert preferences.shape == (4, 2), \"Preferences is list of list of elements with two items: lower and upper bound for P\"\n",
    "    space = [np.arange(pref[0], pref[1] + step, step) for pref in preferences]\n",
    "    grid = np.array(np.meshgrid(*space, indexing='ij')).T.reshape(-1, 4)\n",
    "    labels =  [\"P11\", \"P13\", \"P21\", \"P23\", \"S1\", \"S2\"]\n",
    "    df = pd.DataFrame(data=grid, columns=labels[:4])\n",
    "    temp = pd.DataFrame(data=np.zeros((len(df), 2)), columns=labels[4:])\n",
    "    for idx, label in enumerate(labels[4:]):\n",
    "        temp[label] = df[labels[idx * 2]] + df[labels[idx * 2 + 1]]\n",
    "    df = df[(temp <= 1.).all(axis='columns')].reset_index(drop=True)\n",
    "    return df"
   ]
  },
  {
   "cell_type": "code",
   "execution_count": 12,
   "metadata": {},
   "outputs": [],
   "source": [
    "def get_mapping(df):\n",
    "    \"\"\"\n",
    "    Method that computes equilibrium of a system with a given\n",
    "    set of P11, P13, P21, P23. Uses multiple processes to increase\n",
    "    the speed.\n",
    "\n",
    "    :param df: dataframe with predictors\n",
    "    :return: ground truth\n",
    "    \"\"\"\n",
    "    work = [[r[\"P11\"], r[\"P13\"], r[\"P21\"], r[\"P23\"]] for _, r in df.iterrows()]\n",
    "    with Pool(max(os.cpu_count() - 1, 1)) as p:\n",
    "        ground_truth = list(tqdm(p.imap(simulate_wrapper, work), total=len(work)))\n",
    "    targets = pd.DataFrame(data=ground_truth, columns=[\"M1\", \"M2\"])\n",
    "    return targets"
   ]
  },
  {
   "cell_type": "code",
   "execution_count": 13,
   "metadata": {},
   "outputs": [],
   "source": [
    "def export(df, flag):\n",
    "    \"\"\"\n",
    "    Method that saves dataframe as a csv file.\n",
    "\n",
    "    :param df: dataframe to be saved\n",
    "    :param flag: flag whether it should be saved\n",
    "    :return: True if save successfully\n",
    "    \"\"\"\n",
    "    if not flag:\n",
    "        return\n",
    "    if not os.path.exists('./data'):\n",
    "        os.makedirs('./data')\n",
    "    timestamp = datetime.now().strftime(\"%Y-%m-%d %H:%M:%S\")\n",
    "    filepath = os.path.join('./data', f'train | {timestamp}.csv')\n",
    "    df.to_csv(filepath)\n",
    "    return True"
   ]
  },
  {
   "cell_type": "code",
   "execution_count": 14,
   "metadata": {},
   "outputs": [],
   "source": [
    "def compose_dataset(step=0.1, preferences=None, save=True):\n",
    "    \"\"\"\n",
    "    Method that assembles dataset.\n",
    "\n",
    "    :param step: grid size\n",
    "    :param preferences: list of lists of elements with two items: lower and upper bound for P\n",
    "    :param save: flag whether the result should be saved\n",
    "    :return: dataframe \n",
    "    \"\"\"\n",
    "    df = generate_grid(step=step, preferences=preferences)\n",
    "    targets = get_mapping(df)\n",
    "    dataset = pd.concat([df, targets], axis=1).fillna(value=np.nan)\n",
    "    export(dataset, save)        \n",
    "    return dataset\n"
   ]
  },
  {
   "cell_type": "code",
   "execution_count": 15,
   "metadata": {},
   "outputs": [
    {
     "name": "stderr",
     "output_type": "stream",
     "text": [
      "100%|██████████| 4356/4356 [01:41<00:00, 42.76it/s]\n"
     ]
    }
   ],
   "source": [
    "dataset = compose_dataset()"
   ]
  },
  {
   "cell_type": "code",
   "execution_count": 16,
   "metadata": {},
   "outputs": [
    {
     "data": {
      "text/html": [
       "<div>\n",
       "<style scoped>\n",
       "    .dataframe tbody tr th:only-of-type {\n",
       "        vertical-align: middle;\n",
       "    }\n",
       "\n",
       "    .dataframe tbody tr th {\n",
       "        vertical-align: top;\n",
       "    }\n",
       "\n",
       "    .dataframe thead th {\n",
       "        text-align: right;\n",
       "    }\n",
       "</style>\n",
       "<table border=\"1\" class=\"dataframe\">\n",
       "  <thead>\n",
       "    <tr style=\"text-align: right;\">\n",
       "      <th></th>\n",
       "      <th>P11</th>\n",
       "      <th>P13</th>\n",
       "      <th>P21</th>\n",
       "      <th>P23</th>\n",
       "      <th>M1</th>\n",
       "      <th>M2</th>\n",
       "    </tr>\n",
       "  </thead>\n",
       "  <tbody>\n",
       "    <tr>\n",
       "      <th>0</th>\n",
       "      <td>0.0</td>\n",
       "      <td>0.0</td>\n",
       "      <td>0.0</td>\n",
       "      <td>0.0</td>\n",
       "      <td>NaN</td>\n",
       "      <td>NaN</td>\n",
       "    </tr>\n",
       "    <tr>\n",
       "      <th>1</th>\n",
       "      <td>0.1</td>\n",
       "      <td>0.0</td>\n",
       "      <td>0.0</td>\n",
       "      <td>0.0</td>\n",
       "      <td>NaN</td>\n",
       "      <td>NaN</td>\n",
       "    </tr>\n",
       "    <tr>\n",
       "      <th>2</th>\n",
       "      <td>0.2</td>\n",
       "      <td>0.0</td>\n",
       "      <td>0.0</td>\n",
       "      <td>0.0</td>\n",
       "      <td>99999.969840</td>\n",
       "      <td>0.030160</td>\n",
       "    </tr>\n",
       "    <tr>\n",
       "      <th>3</th>\n",
       "      <td>0.3</td>\n",
       "      <td>0.0</td>\n",
       "      <td>0.0</td>\n",
       "      <td>0.0</td>\n",
       "      <td>99999.988991</td>\n",
       "      <td>0.011009</td>\n",
       "    </tr>\n",
       "    <tr>\n",
       "      <th>4</th>\n",
       "      <td>0.4</td>\n",
       "      <td>0.0</td>\n",
       "      <td>0.0</td>\n",
       "      <td>0.0</td>\n",
       "      <td>99999.994484</td>\n",
       "      <td>0.005516</td>\n",
       "    </tr>\n",
       "  </tbody>\n",
       "</table>\n",
       "</div>"
      ],
      "text/plain": [
       "   P11  P13  P21  P23            M1        M2\n",
       "0  0.0  0.0  0.0  0.0           NaN       NaN\n",
       "1  0.1  0.0  0.0  0.0           NaN       NaN\n",
       "2  0.2  0.0  0.0  0.0  99999.969840  0.030160\n",
       "3  0.3  0.0  0.0  0.0  99999.988991  0.011009\n",
       "4  0.4  0.0  0.0  0.0  99999.994484  0.005516"
      ]
     },
     "execution_count": 16,
     "metadata": {},
     "output_type": "execute_result"
    }
   ],
   "source": [
    "dataset.head()"
   ]
  }
 ],
 "metadata": {
  "interpreter": {
   "hash": "92f8c6b3f3fbc10fc944db5b3630a289a7a62f7dabdafc2495e6f2ec9983888c"
  },
  "kernelspec": {
   "display_name": "Python 3.8.12 ('ml_f21')",
   "language": "python",
   "name": "python3"
  },
  "language_info": {
   "codemirror_mode": {
    "name": "ipython",
    "version": 3
   },
   "file_extension": ".py",
   "mimetype": "text/x-python",
   "name": "python",
   "nbconvert_exporter": "python",
   "pygments_lexer": "ipython3",
   "version": "3.8.12"
  },
  "orig_nbformat": 4
 },
 "nbformat": 4,
 "nbformat_minor": 2
}
